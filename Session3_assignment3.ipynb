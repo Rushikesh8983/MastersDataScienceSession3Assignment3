{
 "cells": [
  {
   "cell_type": "code",
   "execution_count": 1,
   "metadata": {},
   "outputs": [
    {
     "name": "stdout",
     "output_type": "stream",
     "text": [
      "Type the word: 'rushikesh' 'dandagwhal' 'dinkar' 'mechanical' 'SVNIT'\n",
      "'dandagwhal' of len 12\n"
     ]
    }
   ],
   "source": [
    "def main():\n",
    "    text_word = input(\"Type the word: \")\n",
    "\n",
    "    longest = 0\n",
    "\n",
    "    for words in text_word.split():\n",
    "        if len(words) > longest:\n",
    "            longest = len(words)\n",
    "            longest_word = words\n",
    "\n",
    "    print(longest_word, \"of len\", len(longest_word))\n",
    "\n",
    "main() "
   ]
  },
  {
   "cell_type": "code",
   "execution_count": null,
   "metadata": {},
   "outputs": [],
   "source": []
  }
 ],
 "metadata": {
  "kernelspec": {
   "display_name": "Python 3",
   "language": "python",
   "name": "python3"
  },
  "language_info": {
   "codemirror_mode": {
    "name": "ipython",
    "version": 3
   },
   "file_extension": ".py",
   "mimetype": "text/x-python",
   "name": "python",
   "nbconvert_exporter": "python",
   "pygments_lexer": "ipython3",
   "version": "3.6.4"
  }
 },
 "nbformat": 4,
 "nbformat_minor": 2
}
